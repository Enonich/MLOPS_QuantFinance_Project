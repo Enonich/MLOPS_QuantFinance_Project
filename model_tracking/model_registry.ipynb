{
 "cells": [
  {
   "cell_type": "markdown",
   "metadata": {},
   "source": [
    "#### Using the model tracking client"
   ]
  },
  {
   "cell_type": "code",
   "execution_count": 1,
   "metadata": {},
   "outputs": [],
   "source": [
    "from mlflow.tracking import MlflowClient\n"
   ]
  },
  {
   "cell_type": "code",
   "execution_count": 17,
   "metadata": {},
   "outputs": [
    {
     "name": "stdout",
     "output_type": "stream",
     "text": [
      "env: MLFLOW_TRACKING_URI=sqlite:///mlruns.db\n"
     ]
    }
   ],
   "source": [
    "%env MLFLOW_TRACKING_URI = sqlite:///mlruns.db"
   ]
  },
  {
   "cell_type": "code",
   "execution_count": 18,
   "metadata": {},
   "outputs": [
    {
     "data": {
      "text/plain": [
       "[<Experiment: artifact_location=('file:///c:/Users/AIDOO K. ENOCH/Documents/GitHub/RGT/MLOPS '\n",
       "  'Project/model_tracking/mlruns/1'), creation_time=1707089490909, experiment_id='1', last_update_time=1707089490909, lifecycle_stage='active', name='stock_pred_exp', tags={}>,\n",
       " <Experiment: artifact_location='mlflow-artifacts:/0', creation_time=1707089443513, experiment_id='0', last_update_time=1707089443513, lifecycle_stage='active', name='Default', tags={}>]"
      ]
     },
     "execution_count": 18,
     "metadata": {},
     "output_type": "execute_result"
    }
   ],
   "source": [
    "\n",
    "MLFLOW_TRACKING_URI = \"sqlite:///mlruns.db\"\n",
    "client = MlflowClient(tracking_uri=MLFLOW_TRACKING_URI)\n",
    "\n",
    "client.search_experiments()"
   ]
  },
  {
   "cell_type": "code",
   "execution_count": 45,
   "metadata": {},
   "outputs": [
    {
     "data": {
      "text/plain": [
       "[<RegisteredModel: aliases={'champion': 1}, creation_timestamp=1707089653873, description='', last_updated_timestamp=1707090377923, latest_versions=[<ModelVersion: aliases=[], creation_timestamp=1707089653940, current_stage='Production', description='', last_updated_timestamp=1707090211432, name='stock_predictor', run_id='6d565115d6914d2ab68e1790b8fef982', run_link='', source=('file:///c:/Users/AIDOO K. ENOCH/Documents/GitHub/RGT/MLOPS '\n",
       "  'Project/model_tracking/mlruns/1/6d565115d6914d2ab68e1790b8fef982/artifacts/model'), status='READY', status_message=None, tags={}, user_id=None, version=1>,\n",
       "  <ModelVersion: aliases=[], creation_timestamp=1707089668844, current_stage='Staging', description='', last_updated_timestamp=1707090377923, name='stock_predictor', run_id='15c269a13c0740279839814804315ad5', run_link='', source=('file:///c:/Users/AIDOO K. ENOCH/Documents/GitHub/RGT/MLOPS '\n",
       "  'Project/model_tracking/mlruns/1/15c269a13c0740279839814804315ad5/artifacts/model'), status='READY', status_message=None, tags={}, user_id=None, version=2>,\n",
       "  <ModelVersion: aliases=[], creation_timestamp=1707089685087, current_stage='None', description='', last_updated_timestamp=1707089685087, name='stock_predictor', run_id='f9c0605b49f2401c9c17e06d57bd035e', run_link='', source=('file:///c:/Users/AIDOO K. ENOCH/Documents/GitHub/RGT/MLOPS '\n",
       "  'Project/model_tracking/mlruns/1/f9c0605b49f2401c9c17e06d57bd035e/artifacts/model'), status='READY', status_message=None, tags={}, user_id=None, version=3>], name='stock_predictor', tags={}>]"
      ]
     },
     "execution_count": 45,
     "metadata": {},
     "output_type": "execute_result"
    }
   ],
   "source": [
    "# Search for registered models\n",
    "client .search_registered_models()"
   ]
  },
  {
   "cell_type": "code",
   "execution_count": 19,
   "metadata": {},
   "outputs": [],
   "source": [
    "# Checking for the various runs in the experiment\n",
    "\n",
    "from mlflow.entities import ViewType\n",
    "runs = client.search_runs(\n",
    "    experiment_ids = '1',\n",
    "    filter_string = \"\",\n",
    "    run_view_type = ViewType.ACTIVE_ONLY,\n",
    "    max_results = 5, \n",
    "    order_by = [\"metrics.rmse ASC\"]\n",
    ")"
   ]
  },
  {
   "cell_type": "code",
   "execution_count": 20,
   "metadata": {},
   "outputs": [
    {
     "data": {
      "text/plain": [
       "[<Run: data=<RunData: metrics={'r2': 0.9982950463456918,\n",
       "  'rmse': 0.30955395242571454,\n",
       "  'training_mean_absolute_error': 0.00024404666515145297,\n",
       "  'training_mean_squared_error': 1.2641066275640598e-07,\n",
       "  'training_r2_score': 0.9991575185439143,\n",
       "  'training_root_mean_squared_error': 0.0003555427720491671,\n",
       "  'training_score': 0.9991575185439143}, params={'alpha': '0.1',\n",
       "  'memory': 'None',\n",
       "  'polynomial degree': '1',\n",
       "  'polynomialfeatures': 'PolynomialFeatures(degree=1)',\n",
       "  'polynomialfeatures__degree': '1',\n",
       "  'polynomialfeatures__include_bias': 'True',\n",
       "  'polynomialfeatures__interaction_only': 'False',\n",
       "  'polynomialfeatures__order': 'C',\n",
       "  'ridge': 'Ridge(alpha=0.1)',\n",
       "  'ridge__alpha': '0.1',\n",
       "  'ridge__copy_X': 'True',\n",
       "  'ridge__fit_intercept': 'True',\n",
       "  'ridge__max_iter': 'None',\n",
       "  'ridge__positive': 'False',\n",
       "  'ridge__random_state': 'None',\n",
       "  'ridge__solver': 'auto',\n",
       "  'ridge__tol': '0.0001',\n",
       "  'standardscaler': 'StandardScaler()',\n",
       "  'standardscaler__copy': 'True',\n",
       "  'standardscaler__with_mean': 'True',\n",
       "  'standardscaler__with_std': 'True',\n",
       "  'steps': \"[('polynomialfeatures', PolynomialFeatures(degree=1)), \"\n",
       "           \"('standardscaler', StandardScaler()), ('ridge', Ridge(alpha=0.1))]\",\n",
       "  'verbose': 'False'}, tags={'estimator_class': 'sklearn.pipeline.Pipeline',\n",
       "  'estimator_name': 'Pipeline',\n",
       "  'mlflow.log-model.history': '[{\"run_id\": \"15c269a13c0740279839814804315ad5\", '\n",
       "                              '\"artifact_path\": \"model\", \"utc_time_created\": '\n",
       "                              '\"2024-02-04 23:31:52.650674\", \"flavors\": '\n",
       "                              '{\"python_function\": {\"model_path\": \"model.pkl\", '\n",
       "                              '\"predict_fn\": \"predict\", \"loader_module\": '\n",
       "                              '\"mlflow.sklearn\", \"python_version\": \"3.11.4\", '\n",
       "                              '\"env\": {\"conda\": \"conda.yaml\", \"virtualenv\": '\n",
       "                              '\"python_env.yaml\"}}, \"sklearn\": '\n",
       "                              '{\"pickled_model\": \"model.pkl\", '\n",
       "                              '\"sklearn_version\": \"1.3.2\", '\n",
       "                              '\"serialization_format\": \"cloudpickle\", \"code\": '\n",
       "                              'null}}, \"model_uuid\": '\n",
       "                              '\"ac1c596b0ae14c1883d4b3d2608b7b2d\", '\n",
       "                              '\"mlflow_version\": \"2.10.0\", \"signature\": '\n",
       "                              '{\"inputs\": \"[{\\\\\"type\\\\\": \\\\\"double\\\\\", '\n",
       "                              '\\\\\"name\\\\\": \\\\\"ATR\\\\\", \\\\\"required\\\\\": true}, '\n",
       "                              '{\\\\\"type\\\\\": \\\\\"double\\\\\", \\\\\"name\\\\\": '\n",
       "                              '\\\\\"MACD_Line\\\\\", \\\\\"required\\\\\": true}, '\n",
       "                              '{\\\\\"type\\\\\": \\\\\"double\\\\\", \\\\\"name\\\\\": '\n",
       "                              '\\\\\"Signal_Line\\\\\", \\\\\"required\\\\\": true}, '\n",
       "                              '{\\\\\"type\\\\\": \\\\\"double\\\\\", \\\\\"name\\\\\": '\n",
       "                              '\\\\\"MACD_Histogram\\\\\", \\\\\"required\\\\\": true}, '\n",
       "                              '{\\\\\"type\\\\\": \\\\\"double\\\\\", \\\\\"name\\\\\": \\\\\"Daily '\n",
       "                              'Return\\\\\", \\\\\"required\\\\\": true}, {\\\\\"type\\\\\": '\n",
       "                              '\\\\\"double\\\\\", \\\\\"name\\\\\": \\\\\"Upper Band\\\\\", '\n",
       "                              '\\\\\"required\\\\\": true}, {\\\\\"type\\\\\": '\n",
       "                              '\\\\\"double\\\\\", \\\\\"name\\\\\": \\\\\"Lower Band\\\\\", '\n",
       "                              '\\\\\"required\\\\\": true}, {\\\\\"type\\\\\": '\n",
       "                              '\\\\\"double\\\\\", \\\\\"name\\\\\": \\\\\"Simple Moving '\n",
       "                              'Avg\\\\\", \\\\\"required\\\\\": true}]\", \"outputs\": '\n",
       "                              '\"[{\\\\\"type\\\\\": \\\\\"tensor\\\\\", \\\\\"tensor-spec\\\\\": '\n",
       "                              '{\\\\\"dtype\\\\\": \\\\\"float64\\\\\", \\\\\"shape\\\\\": [-1, '\n",
       "                              '1]}}]\", \"params\": null}, \"model_size_bytes\": '\n",
       "                              '1541}]',\n",
       "  'mlflow.runName': 'selective-moose-200',\n",
       "  'mlflow.source.name': 'C:\\\\Users\\\\AIDOO K. '\n",
       "                        'ENOCH\\\\AppData\\\\Roaming\\\\Python\\\\Python311\\\\site-packages\\\\ipykernel_launcher.py',\n",
       "  'mlflow.source.type': 'LOCAL',\n",
       "  'mlflow.user': 'AIDOO K. ENOCH',\n",
       "  'model': 'RidgeRegressor'}>, info=<RunInfo: artifact_uri=('file:///c:/Users/AIDOO K. ENOCH/Documents/GitHub/RGT/MLOPS '\n",
       "  'Project/model_tracking/mlruns/1/15c269a13c0740279839814804315ad5/artifacts'), end_time=1707089518806, experiment_id='1', lifecycle_stage='active', run_id='15c269a13c0740279839814804315ad5', run_name='selective-moose-200', run_uuid='15c269a13c0740279839814804315ad5', start_time=1707089511896, status='FINISHED', user_id='AIDOO K. ENOCH'>, inputs=<RunInputs: dataset_inputs=[<DatasetInput: dataset=<Dataset: digest='eda59b12', name='dataset', profile='{\"num_rows\": 16927, \"num_elements\": 135416}', schema=('{\"mlflow_colspec\": [{\"type\": \"double\", \"name\": \"ATR\", \"required\": true}, '\n",
       "  '{\"type\": \"double\", \"name\": \"MACD_Line\", \"required\": true}, {\"type\": '\n",
       "  '\"double\", \"name\": \"Signal_Line\", \"required\": true}, {\"type\": \"double\", '\n",
       "  '\"name\": \"MACD_Histogram\", \"required\": true}, {\"type\": \"double\", \"name\": '\n",
       "  '\"Daily Return\", \"required\": true}, {\"type\": \"double\", \"name\": \"Upper Band\", '\n",
       "  '\"required\": true}, {\"type\": \"double\", \"name\": \"Lower Band\", \"required\": '\n",
       "  'true}, {\"type\": \"double\", \"name\": \"Simple Moving Avg\", \"required\": true}]}'), source=('{\"tags\": {\"mlflow.user\": \"AIDOO K. ENOCH\", \"mlflow.source.name\": '\n",
       "  '\"C:\\\\\\\\Users\\\\\\\\AIDOO K. '\n",
       "  'ENOCH\\\\\\\\AppData\\\\\\\\Roaming\\\\\\\\Python\\\\\\\\Python311\\\\\\\\site-packages\\\\\\\\ipykernel_launcher.py\", '\n",
       "  '\"mlflow.source.type\": \"LOCAL\"}}'), source_type='code'>, tags=[<InputTag: key='mlflow.data.context', value='train'>]>,\n",
       "  <DatasetInput: dataset=<Dataset: digest='8991dba0', name='dataset', profile='{\"num_rows\": 4612, \"num_elements\": 36896}', schema=('{\"mlflow_colspec\": [{\"type\": \"double\", \"name\": \"ATR\", \"required\": true}, '\n",
       "  '{\"type\": \"double\", \"name\": \"MACD_Line\", \"required\": true}, {\"type\": '\n",
       "  '\"double\", \"name\": \"Signal_Line\", \"required\": true}, {\"type\": \"double\", '\n",
       "  '\"name\": \"MACD_Histogram\", \"required\": true}, {\"type\": \"double\", \"name\": '\n",
       "  '\"Daily Return\", \"required\": true}, {\"type\": \"double\", \"name\": \"Upper Band\", '\n",
       "  '\"required\": true}, {\"type\": \"double\", \"name\": \"Lower Band\", \"required\": '\n",
       "  'true}, {\"type\": \"double\", \"name\": \"Simple Moving Avg\", \"required\": true}]}'), source=('{\"tags\": {\"mlflow.user\": \"AIDOO K. ENOCH\", \"mlflow.source.name\": '\n",
       "  '\"C:\\\\\\\\Users\\\\\\\\AIDOO K. '\n",
       "  'ENOCH\\\\\\\\AppData\\\\\\\\Roaming\\\\\\\\Python\\\\\\\\Python311\\\\\\\\site-packages\\\\\\\\ipykernel_launcher.py\", '\n",
       "  '\"mlflow.source.type\": \"LOCAL\"}}'), source_type='code'>, tags=[<InputTag: key='mlflow.data.context', value='eval'>]>]>>,\n",
       " <Run: data=<RunData: metrics={'r2': 0.9982911037294748,\n",
       "  'rmse': 0.30991165941859333,\n",
       "  'training_mean_absolute_error': 0.0002440762363857752,\n",
       "  'training_mean_squared_error': 1.2641077228662663e-07,\n",
       "  'training_r2_score': 0.9991575178139349,\n",
       "  'training_root_mean_squared_error': 0.00035554292608154454,\n",
       "  'training_score': 0.9991575178139349}, params={'linearregression': 'LinearRegression()',\n",
       "  'linearregression__copy_X': 'True',\n",
       "  'linearregression__fit_intercept': 'True',\n",
       "  'linearregression__n_jobs': 'None',\n",
       "  'linearregression__positive': 'False',\n",
       "  'memory': 'None',\n",
       "  'standardscaler': 'StandardScaler()',\n",
       "  'standardscaler__copy': 'True',\n",
       "  'standardscaler__with_mean': 'True',\n",
       "  'standardscaler__with_std': 'True',\n",
       "  'steps': \"[('standardscaler', StandardScaler()), ('linearregression', \"\n",
       "           'LinearRegression())]',\n",
       "  'test-data-path': '../Data/AAPL_5m.csv',\n",
       "  'train-data-path': '../Data/EURUSD=X_5m.csv',\n",
       "  'verbose': 'False'}, tags={'developer': 'Enoch',\n",
       "  'estimator_class': 'sklearn.pipeline.Pipeline',\n",
       "  'estimator_name': 'Pipeline',\n",
       "  'mlflow.log-model.history': '[{\"run_id\": \"6d565115d6914d2ab68e1790b8fef982\", '\n",
       "                              '\"artifact_path\": \"model\", \"utc_time_created\": '\n",
       "                              '\"2024-02-04 23:31:42.636880\", \"flavors\": '\n",
       "                              '{\"python_function\": {\"model_path\": \"model.pkl\", '\n",
       "                              '\"predict_fn\": \"predict\", \"loader_module\": '\n",
       "                              '\"mlflow.sklearn\", \"python_version\": \"3.11.4\", '\n",
       "                              '\"env\": {\"conda\": \"conda.yaml\", \"virtualenv\": '\n",
       "                              '\"python_env.yaml\"}}, \"sklearn\": '\n",
       "                              '{\"pickled_model\": \"model.pkl\", '\n",
       "                              '\"sklearn_version\": \"1.3.2\", '\n",
       "                              '\"serialization_format\": \"cloudpickle\", \"code\": '\n",
       "                              'null}}, \"model_uuid\": '\n",
       "                              '\"b3ff82341ce9470797f1e0db766cdcb8\", '\n",
       "                              '\"mlflow_version\": \"2.10.0\", \"signature\": '\n",
       "                              '{\"inputs\": \"[{\\\\\"type\\\\\": \\\\\"double\\\\\", '\n",
       "                              '\\\\\"name\\\\\": \\\\\"ATR\\\\\", \\\\\"required\\\\\": true}, '\n",
       "                              '{\\\\\"type\\\\\": \\\\\"double\\\\\", \\\\\"name\\\\\": '\n",
       "                              '\\\\\"MACD_Line\\\\\", \\\\\"required\\\\\": true}, '\n",
       "                              '{\\\\\"type\\\\\": \\\\\"double\\\\\", \\\\\"name\\\\\": '\n",
       "                              '\\\\\"Signal_Line\\\\\", \\\\\"required\\\\\": true}, '\n",
       "                              '{\\\\\"type\\\\\": \\\\\"double\\\\\", \\\\\"name\\\\\": '\n",
       "                              '\\\\\"MACD_Histogram\\\\\", \\\\\"required\\\\\": true}, '\n",
       "                              '{\\\\\"type\\\\\": \\\\\"double\\\\\", \\\\\"name\\\\\": \\\\\"Daily '\n",
       "                              'Return\\\\\", \\\\\"required\\\\\": true}, {\\\\\"type\\\\\": '\n",
       "                              '\\\\\"double\\\\\", \\\\\"name\\\\\": \\\\\"Upper Band\\\\\", '\n",
       "                              '\\\\\"required\\\\\": true}, {\\\\\"type\\\\\": '\n",
       "                              '\\\\\"double\\\\\", \\\\\"name\\\\\": \\\\\"Lower Band\\\\\", '\n",
       "                              '\\\\\"required\\\\\": true}, {\\\\\"type\\\\\": '\n",
       "                              '\\\\\"double\\\\\", \\\\\"name\\\\\": \\\\\"Simple Moving '\n",
       "                              'Avg\\\\\", \\\\\"required\\\\\": true}]\", \"outputs\": '\n",
       "                              '\"[{\\\\\"type\\\\\": \\\\\"tensor\\\\\", \\\\\"tensor-spec\\\\\": '\n",
       "                              '{\\\\\"dtype\\\\\": \\\\\"float64\\\\\", \\\\\"shape\\\\\": [-1, '\n",
       "                              '1]}}]\", \"params\": null}, \"model_size_bytes\": '\n",
       "                              '1341}]',\n",
       "  'mlflow.runName': 'handsome-slug-921',\n",
       "  'mlflow.source.name': 'C:\\\\Users\\\\AIDOO K. '\n",
       "                        'ENOCH\\\\AppData\\\\Roaming\\\\Python\\\\Python311\\\\site-packages\\\\ipykernel_launcher.py',\n",
       "  'mlflow.source.type': 'LOCAL',\n",
       "  'mlflow.user': 'AIDOO K. ENOCH',\n",
       "  'model': 'LinearRegressor'}>, info=<RunInfo: artifact_uri=('file:///c:/Users/AIDOO K. ENOCH/Documents/GitHub/RGT/MLOPS '\n",
       "  'Project/model_tracking/mlruns/1/6d565115d6914d2ab68e1790b8fef982/artifacts'), end_time=1707089508836, experiment_id='1', lifecycle_stage='active', run_id='6d565115d6914d2ab68e1790b8fef982', run_name='handsome-slug-921', run_uuid='6d565115d6914d2ab68e1790b8fef982', start_time=1707089501825, status='FINISHED', user_id='AIDOO K. ENOCH'>, inputs=<RunInputs: dataset_inputs=[<DatasetInput: dataset=<Dataset: digest='eda59b12', name='dataset', profile='{\"num_rows\": 16927, \"num_elements\": 135416}', schema=('{\"mlflow_colspec\": [{\"type\": \"double\", \"name\": \"ATR\", \"required\": true}, '\n",
       "  '{\"type\": \"double\", \"name\": \"MACD_Line\", \"required\": true}, {\"type\": '\n",
       "  '\"double\", \"name\": \"Signal_Line\", \"required\": true}, {\"type\": \"double\", '\n",
       "  '\"name\": \"MACD_Histogram\", \"required\": true}, {\"type\": \"double\", \"name\": '\n",
       "  '\"Daily Return\", \"required\": true}, {\"type\": \"double\", \"name\": \"Upper Band\", '\n",
       "  '\"required\": true}, {\"type\": \"double\", \"name\": \"Lower Band\", \"required\": '\n",
       "  'true}, {\"type\": \"double\", \"name\": \"Simple Moving Avg\", \"required\": true}]}'), source=('{\"tags\": {\"mlflow.user\": \"AIDOO K. ENOCH\", \"mlflow.source.name\": '\n",
       "  '\"C:\\\\\\\\Users\\\\\\\\AIDOO K. '\n",
       "  'ENOCH\\\\\\\\AppData\\\\\\\\Roaming\\\\\\\\Python\\\\\\\\Python311\\\\\\\\site-packages\\\\\\\\ipykernel_launcher.py\", '\n",
       "  '\"mlflow.source.type\": \"LOCAL\"}}'), source_type='code'>, tags=[<InputTag: key='mlflow.data.context', value='train'>]>,\n",
       "  <DatasetInput: dataset=<Dataset: digest='8991dba0', name='dataset', profile='{\"num_rows\": 4612, \"num_elements\": 36896}', schema=('{\"mlflow_colspec\": [{\"type\": \"double\", \"name\": \"ATR\", \"required\": true}, '\n",
       "  '{\"type\": \"double\", \"name\": \"MACD_Line\", \"required\": true}, {\"type\": '\n",
       "  '\"double\", \"name\": \"Signal_Line\", \"required\": true}, {\"type\": \"double\", '\n",
       "  '\"name\": \"MACD_Histogram\", \"required\": true}, {\"type\": \"double\", \"name\": '\n",
       "  '\"Daily Return\", \"required\": true}, {\"type\": \"double\", \"name\": \"Upper Band\", '\n",
       "  '\"required\": true}, {\"type\": \"double\", \"name\": \"Lower Band\", \"required\": '\n",
       "  'true}, {\"type\": \"double\", \"name\": \"Simple Moving Avg\", \"required\": true}]}'), source=('{\"tags\": {\"mlflow.user\": \"AIDOO K. ENOCH\", \"mlflow.source.name\": '\n",
       "  '\"C:\\\\\\\\Users\\\\\\\\AIDOO K. '\n",
       "  'ENOCH\\\\\\\\AppData\\\\\\\\Roaming\\\\\\\\Python\\\\\\\\Python311\\\\\\\\site-packages\\\\\\\\ipykernel_launcher.py\", '\n",
       "  '\"mlflow.source.type\": \"LOCAL\"}}'), source_type='code'>, tags=[<InputTag: key='mlflow.data.context', value='eval'>]>]>>,\n",
       " <Run: data=<RunData: metrics={'r2': 0.9982780974058042,\n",
       "  'rmse': 0.31108878493922765,\n",
       "  'training_mean_absolute_error': 0.00024605716697749324,\n",
       "  'training_mean_squared_error': 1.2772196104510006e-07,\n",
       "  'training_r2_score': 0.9991487792139596,\n",
       "  'training_root_mean_squared_error': 0.00035738209390664787,\n",
       "  'training_score': 0.9991487792139596}, params={'memory': 'None',\n",
       "  'polynomialfeatures': 'PolynomialFeatures(degree=1)',\n",
       "  'polynomialfeatures__degree': '1',\n",
       "  'polynomialfeatures__include_bias': 'True',\n",
       "  'polynomialfeatures__interaction_only': 'False',\n",
       "  'polynomialfeatures__order': 'C',\n",
       "  'sgdregressor': 'SGDRegressor(alpha=0.002, max_iter=115)',\n",
       "  'sgdregressor__alpha': '0.002',\n",
       "  'sgdregressor__average': 'False',\n",
       "  'sgdregressor__early_stopping': 'False',\n",
       "  'sgdregressor__epsilon': '0.1',\n",
       "  'sgdregressor__eta0': '0.01',\n",
       "  'sgdregressor__fit_intercept': 'True',\n",
       "  'sgdregressor__l1_ratio': '0.15',\n",
       "  'sgdregressor__learning_rate': 'invscaling',\n",
       "  'sgdregressor__loss': 'squared_error',\n",
       "  'sgdregressor__max_iter': '115',\n",
       "  'sgdregressor__n_iter_no_change': '5',\n",
       "  'sgdregressor__penalty': 'l2',\n",
       "  'sgdregressor__power_t': '0.25',\n",
       "  'sgdregressor__random_state': 'None',\n",
       "  'sgdregressor__shuffle': 'True',\n",
       "  'sgdregressor__tol': '0.001',\n",
       "  'sgdregressor__validation_fraction': '0.1',\n",
       "  'sgdregressor__verbose': '0',\n",
       "  'sgdregressor__warm_start': 'False',\n",
       "  'standardscaler': 'StandardScaler()',\n",
       "  'standardscaler__copy': 'True',\n",
       "  'standardscaler__with_mean': 'True',\n",
       "  'standardscaler__with_std': 'True',\n",
       "  'steps': \"[('polynomialfeatures', PolynomialFeatures(degree=1)), \"\n",
       "           \"('standardscaler', StandardScaler()), ('sgdregressor', \"\n",
       "           'SGDRegressor(alpha=0.002, max_iter=115))]',\n",
       "  'verbose': 'False'}, tags={'estimator_class': 'sklearn.pipeline.Pipeline',\n",
       "  'estimator_name': 'Pipeline',\n",
       "  'mlflow.log-model.history': '[{\"run_id\": \"f9c0605b49f2401c9c17e06d57bd035e\", '\n",
       "                              '\"artifact_path\": \"model\", \"utc_time_created\": '\n",
       "                              '\"2024-02-04 23:32:12.087666\", \"flavors\": '\n",
       "                              '{\"python_function\": {\"model_path\": \"model.pkl\", '\n",
       "                              '\"predict_fn\": \"predict\", \"loader_module\": '\n",
       "                              '\"mlflow.sklearn\", \"python_version\": \"3.11.4\", '\n",
       "                              '\"env\": {\"conda\": \"conda.yaml\", \"virtualenv\": '\n",
       "                              '\"python_env.yaml\"}}, \"sklearn\": '\n",
       "                              '{\"pickled_model\": \"model.pkl\", '\n",
       "                              '\"sklearn_version\": \"1.3.2\", '\n",
       "                              '\"serialization_format\": \"cloudpickle\", \"code\": '\n",
       "                              'null}}, \"model_uuid\": '\n",
       "                              '\"e54bbac5c146489e953253346f8c23f9\", '\n",
       "                              '\"mlflow_version\": \"2.10.0\", \"signature\": '\n",
       "                              '{\"inputs\": \"[{\\\\\"type\\\\\": \\\\\"double\\\\\", '\n",
       "                              '\\\\\"name\\\\\": \\\\\"ATR\\\\\", \\\\\"required\\\\\": true}, '\n",
       "                              '{\\\\\"type\\\\\": \\\\\"double\\\\\", \\\\\"name\\\\\": '\n",
       "                              '\\\\\"MACD_Line\\\\\", \\\\\"required\\\\\": true}, '\n",
       "                              '{\\\\\"type\\\\\": \\\\\"double\\\\\", \\\\\"name\\\\\": '\n",
       "                              '\\\\\"Signal_Line\\\\\", \\\\\"required\\\\\": true}, '\n",
       "                              '{\\\\\"type\\\\\": \\\\\"double\\\\\", \\\\\"name\\\\\": '\n",
       "                              '\\\\\"MACD_Histogram\\\\\", \\\\\"required\\\\\": true}, '\n",
       "                              '{\\\\\"type\\\\\": \\\\\"double\\\\\", \\\\\"name\\\\\": \\\\\"Daily '\n",
       "                              'Return\\\\\", \\\\\"required\\\\\": true}, {\\\\\"type\\\\\": '\n",
       "                              '\\\\\"double\\\\\", \\\\\"name\\\\\": \\\\\"Upper Band\\\\\", '\n",
       "                              '\\\\\"required\\\\\": true}, {\\\\\"type\\\\\": '\n",
       "                              '\\\\\"double\\\\\", \\\\\"name\\\\\": \\\\\"Lower Band\\\\\", '\n",
       "                              '\\\\\"required\\\\\": true}, {\\\\\"type\\\\\": '\n",
       "                              '\\\\\"double\\\\\", \\\\\"name\\\\\": \\\\\"Simple Moving '\n",
       "                              'Avg\\\\\", \\\\\"required\\\\\": true}]\", \"outputs\": '\n",
       "                              '\"[{\\\\\"type\\\\\": \\\\\"tensor\\\\\", \\\\\"tensor-spec\\\\\": '\n",
       "                              '{\\\\\"dtype\\\\\": \\\\\"float64\\\\\", \\\\\"shape\\\\\": '\n",
       "                              '[-1]}}]\", \"params\": null}, \"model_size_bytes\": '\n",
       "                              '1807}]',\n",
       "  'mlflow.runName': 'legendary-boar-914',\n",
       "  'mlflow.source.name': 'C:\\\\Users\\\\AIDOO K. '\n",
       "                        'ENOCH\\\\AppData\\\\Roaming\\\\Python\\\\Python311\\\\site-packages\\\\ipykernel_launcher.py',\n",
       "  'mlflow.source.type': 'LOCAL',\n",
       "  'mlflow.user': 'AIDOO K. ENOCH',\n",
       "  'model': 'SGDRegressor'}>, info=<RunInfo: artifact_uri=('file:///c:/Users/AIDOO K. ENOCH/Documents/GitHub/RGT/MLOPS '\n",
       "  'Project/model_tracking/mlruns/1/f9c0605b49f2401c9c17e06d57bd035e/artifacts'), end_time=1707089538555, experiment_id='1', lifecycle_stage='active', run_id='f9c0605b49f2401c9c17e06d57bd035e', run_name='legendary-boar-914', run_uuid='f9c0605b49f2401c9c17e06d57bd035e', start_time=1707089531315, status='FINISHED', user_id='AIDOO K. ENOCH'>, inputs=<RunInputs: dataset_inputs=[<DatasetInput: dataset=<Dataset: digest='eda59b12', name='dataset', profile='{\"num_rows\": 16927, \"num_elements\": 135416}', schema=('{\"mlflow_colspec\": [{\"type\": \"double\", \"name\": \"ATR\", \"required\": true}, '\n",
       "  '{\"type\": \"double\", \"name\": \"MACD_Line\", \"required\": true}, {\"type\": '\n",
       "  '\"double\", \"name\": \"Signal_Line\", \"required\": true}, {\"type\": \"double\", '\n",
       "  '\"name\": \"MACD_Histogram\", \"required\": true}, {\"type\": \"double\", \"name\": '\n",
       "  '\"Daily Return\", \"required\": true}, {\"type\": \"double\", \"name\": \"Upper Band\", '\n",
       "  '\"required\": true}, {\"type\": \"double\", \"name\": \"Lower Band\", \"required\": '\n",
       "  'true}, {\"type\": \"double\", \"name\": \"Simple Moving Avg\", \"required\": true}]}'), source=('{\"tags\": {\"mlflow.user\": \"AIDOO K. ENOCH\", \"mlflow.source.name\": '\n",
       "  '\"C:\\\\\\\\Users\\\\\\\\AIDOO K. '\n",
       "  'ENOCH\\\\\\\\AppData\\\\\\\\Roaming\\\\\\\\Python\\\\\\\\Python311\\\\\\\\site-packages\\\\\\\\ipykernel_launcher.py\", '\n",
       "  '\"mlflow.source.type\": \"LOCAL\"}}'), source_type='code'>, tags=[<InputTag: key='mlflow.data.context', value='train'>]>,\n",
       "  <DatasetInput: dataset=<Dataset: digest='8991dba0', name='dataset', profile='{\"num_rows\": 4612, \"num_elements\": 36896}', schema=('{\"mlflow_colspec\": [{\"type\": \"double\", \"name\": \"ATR\", \"required\": true}, '\n",
       "  '{\"type\": \"double\", \"name\": \"MACD_Line\", \"required\": true}, {\"type\": '\n",
       "  '\"double\", \"name\": \"Signal_Line\", \"required\": true}, {\"type\": \"double\", '\n",
       "  '\"name\": \"MACD_Histogram\", \"required\": true}, {\"type\": \"double\", \"name\": '\n",
       "  '\"Daily Return\", \"required\": true}, {\"type\": \"double\", \"name\": \"Upper Band\", '\n",
       "  '\"required\": true}, {\"type\": \"double\", \"name\": \"Lower Band\", \"required\": '\n",
       "  'true}, {\"type\": \"double\", \"name\": \"Simple Moving Avg\", \"required\": true}]}'), source=('{\"tags\": {\"mlflow.user\": \"AIDOO K. ENOCH\", \"mlflow.source.name\": '\n",
       "  '\"C:\\\\\\\\Users\\\\\\\\AIDOO K. '\n",
       "  'ENOCH\\\\\\\\AppData\\\\\\\\Roaming\\\\\\\\Python\\\\\\\\Python311\\\\\\\\site-packages\\\\\\\\ipykernel_launcher.py\", '\n",
       "  '\"mlflow.source.type\": \"LOCAL\"}}'), source_type='code'>, tags=[<InputTag: key='mlflow.data.context', value='eval'>]>]>>,\n",
       " <Run: data=<RunData: metrics={'r2': 0.9978070779264776,\n",
       "  'rmse': 0.35106833861197767,\n",
       "  'training_mean_absolute_error': 0.00024393711294745982,\n",
       "  'training_mean_squared_error': 1.2679926810780243e-07,\n",
       "  'training_r2_score': 0.999154928629463,\n",
       "  'training_root_mean_squared_error': 0.0003560888486147838,\n",
       "  'training_score': 0.999154928629463}, params={'lasso': 'Lasso(alpha=1e-05)',\n",
       "  'lasso__alpha': '1e-05',\n",
       "  'lasso__copy_X': 'True',\n",
       "  'lasso__fit_intercept': 'True',\n",
       "  'lasso__max_iter': '1000',\n",
       "  'lasso__positive': 'False',\n",
       "  'lasso__precompute': 'False',\n",
       "  'lasso__random_state': 'None',\n",
       "  'lasso__selection': 'cyclic',\n",
       "  'lasso__tol': '0.0001',\n",
       "  'lasso__warm_start': 'False',\n",
       "  'memory': 'None',\n",
       "  'polynomialfeatures': 'PolynomialFeatures(degree=1)',\n",
       "  'polynomialfeatures__degree': '1',\n",
       "  'polynomialfeatures__include_bias': 'True',\n",
       "  'polynomialfeatures__interaction_only': 'False',\n",
       "  'polynomialfeatures__order': 'C',\n",
       "  'standardscaler': 'StandardScaler()',\n",
       "  'standardscaler__copy': 'True',\n",
       "  'standardscaler__with_mean': 'True',\n",
       "  'standardscaler__with_std': 'True',\n",
       "  'steps': \"[('polynomialfeatures', PolynomialFeatures(degree=1)), \"\n",
       "           \"('standardscaler', StandardScaler()), ('lasso', \"\n",
       "           'Lasso(alpha=1e-05))]',\n",
       "  'verbose': 'False'}, tags={'estimator_class': 'sklearn.pipeline.Pipeline',\n",
       "  'estimator_name': 'Pipeline',\n",
       "  'mlflow.log-model.history': '[{\"run_id\": \"aa74b222a4c347c1a9a7a07d64fbe854\", '\n",
       "                              '\"artifact_path\": \"model\", \"utc_time_created\": '\n",
       "                              '\"2024-02-04 23:32:04.767181\", \"flavors\": '\n",
       "                              '{\"python_function\": {\"model_path\": \"model.pkl\", '\n",
       "                              '\"predict_fn\": \"predict\", \"loader_module\": '\n",
       "                              '\"mlflow.sklearn\", \"python_version\": \"3.11.4\", '\n",
       "                              '\"env\": {\"conda\": \"conda.yaml\", \"virtualenv\": '\n",
       "                              '\"python_env.yaml\"}}, \"sklearn\": '\n",
       "                              '{\"pickled_model\": \"model.pkl\", '\n",
       "                              '\"sklearn_version\": \"1.3.2\", '\n",
       "                              '\"serialization_format\": \"cloudpickle\", \"code\": '\n",
       "                              'null}}, \"model_uuid\": '\n",
       "                              '\"cfe351abcaeb4ab6b8869b28d8302d33\", '\n",
       "                              '\"mlflow_version\": \"2.10.0\", \"signature\": '\n",
       "                              '{\"inputs\": \"[{\\\\\"type\\\\\": \\\\\"double\\\\\", '\n",
       "                              '\\\\\"name\\\\\": \\\\\"ATR\\\\\", \\\\\"required\\\\\": true}, '\n",
       "                              '{\\\\\"type\\\\\": \\\\\"double\\\\\", \\\\\"name\\\\\": '\n",
       "                              '\\\\\"MACD_Line\\\\\", \\\\\"required\\\\\": true}, '\n",
       "                              '{\\\\\"type\\\\\": \\\\\"double\\\\\", \\\\\"name\\\\\": '\n",
       "                              '\\\\\"Signal_Line\\\\\", \\\\\"required\\\\\": true}, '\n",
       "                              '{\\\\\"type\\\\\": \\\\\"double\\\\\", \\\\\"name\\\\\": '\n",
       "                              '\\\\\"MACD_Histogram\\\\\", \\\\\"required\\\\\": true}, '\n",
       "                              '{\\\\\"type\\\\\": \\\\\"double\\\\\", \\\\\"name\\\\\": \\\\\"Daily '\n",
       "                              'Return\\\\\", \\\\\"required\\\\\": true}, {\\\\\"type\\\\\": '\n",
       "                              '\\\\\"double\\\\\", \\\\\"name\\\\\": \\\\\"Upper Band\\\\\", '\n",
       "                              '\\\\\"required\\\\\": true}, {\\\\\"type\\\\\": '\n",
       "                              '\\\\\"double\\\\\", \\\\\"name\\\\\": \\\\\"Lower Band\\\\\", '\n",
       "                              '\\\\\"required\\\\\": true}, {\\\\\"type\\\\\": '\n",
       "                              '\\\\\"double\\\\\", \\\\\"name\\\\\": \\\\\"Simple Moving '\n",
       "                              'Avg\\\\\", \\\\\"required\\\\\": true}]\", \"outputs\": '\n",
       "                              '\"[{\\\\\"type\\\\\": \\\\\"tensor\\\\\", \\\\\"tensor-spec\\\\\": '\n",
       "                              '{\\\\\"dtype\\\\\": \\\\\"float64\\\\\", \\\\\"shape\\\\\": '\n",
       "                              '[-1]}}]\", \"params\": null}, \"model_size_bytes\": '\n",
       "                              '1640}]',\n",
       "  'mlflow.runName': 'melodic-lynx-776',\n",
       "  'mlflow.source.name': 'C:\\\\Users\\\\AIDOO K. '\n",
       "                        'ENOCH\\\\AppData\\\\Roaming\\\\Python\\\\Python311\\\\site-packages\\\\ipykernel_launcher.py',\n",
       "  'mlflow.source.type': 'LOCAL',\n",
       "  'mlflow.user': 'AIDOO K. ENOCH',\n",
       "  'model': 'LassoRegressor'}>, info=<RunInfo: artifact_uri=('file:///c:/Users/AIDOO K. ENOCH/Documents/GitHub/RGT/MLOPS '\n",
       "  'Project/model_tracking/mlruns/1/aa74b222a4c347c1a9a7a07d64fbe854/artifacts'), end_time=1707089531246, experiment_id='1', lifecycle_stage='active', run_id='aa74b222a4c347c1a9a7a07d64fbe854', run_name='melodic-lynx-776', run_uuid='aa74b222a4c347c1a9a7a07d64fbe854', start_time=1707089520823, status='FINISHED', user_id='AIDOO K. ENOCH'>, inputs=<RunInputs: dataset_inputs=[<DatasetInput: dataset=<Dataset: digest='eda59b12', name='dataset', profile='{\"num_rows\": 16927, \"num_elements\": 135416}', schema=('{\"mlflow_colspec\": [{\"type\": \"double\", \"name\": \"ATR\", \"required\": true}, '\n",
       "  '{\"type\": \"double\", \"name\": \"MACD_Line\", \"required\": true}, {\"type\": '\n",
       "  '\"double\", \"name\": \"Signal_Line\", \"required\": true}, {\"type\": \"double\", '\n",
       "  '\"name\": \"MACD_Histogram\", \"required\": true}, {\"type\": \"double\", \"name\": '\n",
       "  '\"Daily Return\", \"required\": true}, {\"type\": \"double\", \"name\": \"Upper Band\", '\n",
       "  '\"required\": true}, {\"type\": \"double\", \"name\": \"Lower Band\", \"required\": '\n",
       "  'true}, {\"type\": \"double\", \"name\": \"Simple Moving Avg\", \"required\": true}]}'), source=('{\"tags\": {\"mlflow.user\": \"AIDOO K. ENOCH\", \"mlflow.source.name\": '\n",
       "  '\"C:\\\\\\\\Users\\\\\\\\AIDOO K. '\n",
       "  'ENOCH\\\\\\\\AppData\\\\\\\\Roaming\\\\\\\\Python\\\\\\\\Python311\\\\\\\\site-packages\\\\\\\\ipykernel_launcher.py\", '\n",
       "  '\"mlflow.source.type\": \"LOCAL\"}}'), source_type='code'>, tags=[<InputTag: key='mlflow.data.context', value='train'>]>,\n",
       "  <DatasetInput: dataset=<Dataset: digest='8991dba0', name='dataset', profile='{\"num_rows\": 4612, \"num_elements\": 36896}', schema=('{\"mlflow_colspec\": [{\"type\": \"double\", \"name\": \"ATR\", \"required\": true}, '\n",
       "  '{\"type\": \"double\", \"name\": \"MACD_Line\", \"required\": true}, {\"type\": '\n",
       "  '\"double\", \"name\": \"Signal_Line\", \"required\": true}, {\"type\": \"double\", '\n",
       "  '\"name\": \"MACD_Histogram\", \"required\": true}, {\"type\": \"double\", \"name\": '\n",
       "  '\"Daily Return\", \"required\": true}, {\"type\": \"double\", \"name\": \"Upper Band\", '\n",
       "  '\"required\": true}, {\"type\": \"double\", \"name\": \"Lower Band\", \"required\": '\n",
       "  'true}, {\"type\": \"double\", \"name\": \"Simple Moving Avg\", \"required\": true}]}'), source=('{\"tags\": {\"mlflow.user\": \"AIDOO K. ENOCH\", \"mlflow.source.name\": '\n",
       "  '\"C:\\\\\\\\Users\\\\\\\\AIDOO K. '\n",
       "  'ENOCH\\\\\\\\AppData\\\\\\\\Roaming\\\\\\\\Python\\\\\\\\Python311\\\\\\\\site-packages\\\\\\\\ipykernel_launcher.py\", '\n",
       "  '\"mlflow.source.type\": \"LOCAL\"}}'), source_type='code'>, tags=[<InputTag: key='mlflow.data.context', value='eval'>]>]>>]"
      ]
     },
     "execution_count": 20,
     "metadata": {},
     "output_type": "execute_result"
    }
   ],
   "source": [
    "runs"
   ]
  },
  {
   "cell_type": "code",
   "execution_count": 21,
   "metadata": {},
   "outputs": [
    {
     "name": "stdout",
     "output_type": "stream",
     "text": [
      "run id: 15c269a13c0740279839814804315ad5, rmse: 0.3096\n",
      "run id: 6d565115d6914d2ab68e1790b8fef982, rmse: 0.3099\n",
      "run id: f9c0605b49f2401c9c17e06d57bd035e, rmse: 0.3111\n",
      "run id: aa74b222a4c347c1a9a7a07d64fbe854, rmse: 0.3511\n"
     ]
    }
   ],
   "source": [
    "import mlflow\n",
    "\n",
    "# Prints run id along with their rmse scores\n",
    "\n",
    "for run in runs:\n",
    "    print(f\"run id: {run.info.run_id}, rmse: {run.data.metrics['rmse']:.4f}\")   "
   ]
  },
  {
   "cell_type": "code",
   "execution_count": 22,
   "metadata": {},
   "outputs": [
    {
     "name": "stdout",
     "output_type": "stream",
     "text": [
      "version: 3, stage: None\n"
     ]
    },
    {
     "name": "stderr",
     "output_type": "stream",
     "text": [
      "C:\\Users\\AIDOO K. ENOCH\\AppData\\Local\\Temp\\ipykernel_12076\\568910591.py:2: FutureWarning: ``mlflow.tracking.client.MlflowClient.get_latest_versions`` is deprecated since 2.9.0. Model registry stages will be removed in a future major release. To learn more about the deprecation of model registry stages, see our migration guide here: https://mlflow.org/docs/2.10.0/model-registry.html#migrating-from-stages\n",
      "  latest_versions = client.get_latest_versions(name=model_name)\n"
     ]
    }
   ],
   "source": [
    "# Get the various stages of the registered models\n",
    "model_name = \"stock_predictor\"\n",
    "latest_versions = client.get_latest_versions(name=model_name)\n",
    "\n",
    "for version in latest_versions:\n",
    "    print(f\"version: {version.version}, stage: {version.current_stage}\")"
   ]
  },
  {
   "cell_type": "code",
   "execution_count": 24,
   "metadata": {},
   "outputs": [
    {
     "name": "stderr",
     "output_type": "stream",
     "text": [
      "C:\\Users\\AIDOO K. ENOCH\\AppData\\Local\\Temp\\ipykernel_12076\\196262431.py:3: FutureWarning: ``mlflow.tracking.client.MlflowClient.transition_model_version_stage`` is deprecated since 2.9.0. Model registry stages will be removed in a future major release. To learn more about the deprecation of model registry stages, see our migration guide here: https://mlflow.org/docs/2.10.0/model-registry.html#migrating-from-stages\n",
      "  client.transition_model_version_stage(\n"
     ]
    },
    {
     "data": {
      "text/plain": [
       "<ModelVersion: aliases=[], creation_timestamp=1707089653940, current_stage='Production', description='', last_updated_timestamp=1707090211432, name='stock_predictor', run_id='6d565115d6914d2ab68e1790b8fef982', run_link='', source=('file:///c:/Users/AIDOO K. ENOCH/Documents/GitHub/RGT/MLOPS '\n",
       " 'Project/model_tracking/mlruns/1/6d565115d6914d2ab68e1790b8fef982/artifacts/model'), status='READY', status_message=None, tags={}, user_id=None, version=1>"
      ]
     },
     "execution_count": 24,
     "metadata": {},
     "output_type": "execute_result"
    }
   ],
   "source": [
    "# promotes the stage of model_version 1\n",
    "model_version = 1\n",
    "new_stage = \"Production\"\n",
    "client.transition_model_version_stage(\n",
    "    name=model_name,\n",
    "    version=model_version,\n",
    "    stage=new_stage,\n",
    "    archive_existing_versions=False\n",
    ")"
   ]
  },
  {
   "cell_type": "code",
   "execution_count": 27,
   "metadata": {},
   "outputs": [
    {
     "name": "stderr",
     "output_type": "stream",
     "text": [
      "C:\\Users\\AIDOO K. ENOCH\\AppData\\Local\\Temp\\ipykernel_12076\\3336984827.py:3: FutureWarning: ``mlflow.tracking.client.MlflowClient.transition_model_version_stage`` is deprecated since 2.9.0. Model registry stages will be removed in a future major release. To learn more about the deprecation of model registry stages, see our migration guide here: https://mlflow.org/docs/2.10.0/model-registry.html#migrating-from-stages\n",
      "  client.transition_model_version_stage(\n"
     ]
    },
    {
     "data": {
      "text/plain": [
       "<ModelVersion: aliases=[], creation_timestamp=1707089668844, current_stage='Staging', description='', last_updated_timestamp=1707090377923, name='stock_predictor', run_id='15c269a13c0740279839814804315ad5', run_link='', source=('file:///c:/Users/AIDOO K. ENOCH/Documents/GitHub/RGT/MLOPS '\n",
       " 'Project/model_tracking/mlruns/1/15c269a13c0740279839814804315ad5/artifacts/model'), status='READY', status_message=None, tags={}, user_id=None, version=2>"
      ]
     },
     "execution_count": 27,
     "metadata": {},
     "output_type": "execute_result"
    }
   ],
   "source": [
    "model_version = 2\n",
    "new_stage = \"Staging\"\n",
    "client.transition_model_version_stage(\n",
    "    name=model_name,\n",
    "    version=model_version,\n",
    "    stage=new_stage,\n",
    "    archive_existing_versions=True\n",
    ")"
   ]
  },
  {
   "cell_type": "markdown",
   "metadata": {},
   "source": [
    "#### Model inferencing to select the best performing model"
   ]
  },
  {
   "cell_type": "code",
   "execution_count": 1,
   "metadata": {},
   "outputs": [],
   "source": [
    "# importing dependencies\n",
    "import numpy as np\n",
    "import pandas as pd\n",
    "from sklearn.metrics import mean_squared_error\n",
    "from feature_engineering import calculate_bollinger_bands, calculate_daily_return, calculate_macd, calculate_sma, average_true_range\n",
    "import mlflow.pyfunc"
   ]
  },
  {
   "cell_type": "code",
   "execution_count": 40,
   "metadata": {},
   "outputs": [],
   "source": [
    "def read_dataframe(filename):\n",
    "    df = pd.read_csv(filename, index_col='Datetime')\n",
    "    \n",
    "    #Feature Engineering \n",
    "    atr_data = average_true_range(df)\n",
    "    macd_data = calculate_macd(df)  \n",
    "    dr_data = calculate_daily_return(df)\n",
    "    bb_data = calculate_bollinger_bands(df)\n",
    "    sma_data = calculate_sma(df)\n",
    "    train_sets = sma_data\n",
    "    \n",
    "    df = df.drop(['Open', 'High', 'Low', 'Close'], axis=1)\n",
    "    return df\n",
    "\n",
    "\n",
    "def preprocess(df):\n",
    "    data = df.dropna()\n",
    "    X_test = data.drop(['Adj Close', 'Volume'], axis=1)\n",
    "    y_test = data[['Adj Close']]\n",
    "    \n",
    "    # Dropping The Last Row of the x_test and the first row of the y_test\n",
    "    X_test = X_test.drop(X_test.index[-1])\n",
    "    y_test = y_test.drop(y_test.index[0])\n",
    "    return X_test, y_test\n",
    "\n",
    "\n",
    "def test_model(name, X_test, y_test):\n",
    "    model = mlflow.pyfunc.load_model(model_uri=f\"models:/{model_name}/{model_version}\")\n",
    "    y_pred = model.predict(X_test)\n",
    "    return {\"rmse\": mean_squared_error(y_test, y_pred, squared=False)}"
   ]
  },
  {
   "cell_type": "code",
   "execution_count": 30,
   "metadata": {},
   "outputs": [],
   "source": [
    "data = read_dataframe('../Data/SPY_5m.csv')"
   ]
  },
  {
   "cell_type": "code",
   "execution_count": 31,
   "metadata": {},
   "outputs": [],
   "source": [
    "X_test, y_test = preprocess(data)"
   ]
  },
  {
   "cell_type": "code",
   "execution_count": 43,
   "metadata": {},
   "outputs": [
    {
     "name": "stdout",
     "output_type": "stream",
     "text": [
      "CPU times: total: 109 ms\n",
      "Wall time: 123 ms\n"
     ]
    },
    {
     "data": {
      "text/plain": [
       "{'rmse': 0.4939220382075162}"
      ]
     },
     "execution_count": 43,
     "metadata": {},
     "output_type": "execute_result"
    }
   ],
   "source": [
    "model_name = \"stock_predictor\"\n",
    "model_version = 1\n",
    "%time test_model(name=model_name, X_test=X_test, y_test=y_test)"
   ]
  },
  {
   "cell_type": "code",
   "execution_count": 41,
   "metadata": {},
   "outputs": [
    {
     "name": "stdout",
     "output_type": "stream",
     "text": [
      "CPU times: total: 62.5 ms\n",
      "Wall time: 125 ms\n"
     ]
    },
    {
     "data": {
      "text/plain": [
       "{'rmse': 0.49266271725820854}"
      ]
     },
     "execution_count": 41,
     "metadata": {},
     "output_type": "execute_result"
    }
   ],
   "source": [
    "model_name = \"stock_predictor\"\n",
    "model_version = 2\n",
    "%time test_model(name=model_name, X_test=X_test, y_test=y_test)"
   ]
  },
  {
   "cell_type": "code",
   "execution_count": 44,
   "metadata": {},
   "outputs": [
    {
     "name": "stdout",
     "output_type": "stream",
     "text": [
      "CPU times: total: 125 ms\n",
      "Wall time: 138 ms\n"
     ]
    },
    {
     "data": {
      "text/plain": [
       "{'rmse': 0.516718543001105}"
      ]
     },
     "execution_count": 44,
     "metadata": {},
     "output_type": "execute_result"
    }
   ],
   "source": [
    "model_name = \"stock_predictor\"\n",
    "model_version = 3\n",
    "%time test_model(name=model_name, X_test=X_test, y_test=y_test)"
   ]
  },
  {
   "cell_type": "code",
   "execution_count": 46,
   "metadata": {},
   "outputs": [
    {
     "name": "stderr",
     "output_type": "stream",
     "text": [
      "C:\\Users\\AIDOO K. ENOCH\\AppData\\Local\\Temp\\ipykernel_12076\\4193080773.py:3: FutureWarning: ``mlflow.tracking.client.MlflowClient.transition_model_version_stage`` is deprecated since 2.9.0. Model registry stages will be removed in a future major release. To learn more about the deprecation of model registry stages, see our migration guide here: https://mlflow.org/docs/2.10.0/model-registry.html#migrating-from-stages\n",
      "  client.transition_model_version_stage(\n"
     ]
    },
    {
     "data": {
      "text/plain": [
       "<ModelVersion: aliases=[], creation_timestamp=1707089668844, current_stage='Production', description='', last_updated_timestamp=1707092824329, name='stock_predictor', run_id='15c269a13c0740279839814804315ad5', run_link='', source=('file:///c:/Users/AIDOO K. ENOCH/Documents/GitHub/RGT/MLOPS '\n",
       " 'Project/model_tracking/mlruns/1/15c269a13c0740279839814804315ad5/artifacts/model'), status='READY', status_message=None, tags={}, user_id=None, version=2>"
      ]
     },
     "execution_count": 46,
     "metadata": {},
     "output_type": "execute_result"
    }
   ],
   "source": [
    "model_version = 2\n",
    "new_stage = \"Production\"\n",
    "client.transition_model_version_stage(\n",
    "    name=model_name,\n",
    "    version=model_version,\n",
    "    stage=new_stage,\n",
    "    archive_existing_versions=True\n",
    ")"
   ]
  },
  {
   "cell_type": "code",
   "execution_count": null,
   "metadata": {},
   "outputs": [],
   "source": []
  }
 ],
 "metadata": {
  "kernelspec": {
   "display_name": "model_orch",
   "language": "python",
   "name": "python3"
  },
  "language_info": {
   "codemirror_mode": {
    "name": "ipython",
    "version": 3
   },
   "file_extension": ".py",
   "mimetype": "text/x-python",
   "name": "python",
   "nbconvert_exporter": "python",
   "pygments_lexer": "ipython3",
   "version": "3.11.4"
  }
 },
 "nbformat": 4,
 "nbformat_minor": 2
}
